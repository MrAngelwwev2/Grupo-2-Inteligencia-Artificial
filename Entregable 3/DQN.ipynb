import numpy as np 
import matplotlib.pyplot as plt
import gym
%matplotlib inline
import torch 
from torch.utils.data import Dataset, DataLoader
import torch.nn as nn
import torch.optim as optim
import os 
import collections
!pip install tensor-dash
from tensordash.tensordash import Tensordash


import sys
# Import python files 
!wget https://github.com/clementbernardd/Count-Based-Exploration/raw/main/zip/python.zip
!unzip python.zip
!rm python.zip
!mkdir models
!mkdir results

sys.path.append('/content/python')

from RL_algorithm import *
from utils import * 
from buffer import * 
from dqn_agent import *
from qnetwork import *
from state import *
from simhash import * 
from train import * 

device = torch.device('cuda' if torch.cuda.is_available() else 'cpu')
